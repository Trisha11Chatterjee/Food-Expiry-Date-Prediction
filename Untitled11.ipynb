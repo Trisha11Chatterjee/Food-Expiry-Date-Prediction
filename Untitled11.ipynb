{
  "nbformat": 4,
  "nbformat_minor": 0,
  "metadata": {
    "colab": {
      "provenance": []
    },
    "kernelspec": {
      "name": "python3",
      "display_name": "Python 3"
    },
    "language_info": {
      "name": "python"
    }
  },
  "cells": [
    {
      "cell_type": "code",
      "source": [
        "import numpy as np\n",
        "import tensorflow as tf\n",
        "from tensorflow.keras.layers import Dense, Flatten, Dropout\n",
        "from tensorflow.keras.models import Sequential\n",
        "from tensorflow.keras.optimizers import Adam\n",
        "import PIL\n",
        "import cv2\n",
        "from tensorflow.keras import backend as K\n",
        "\n",
        "# Define the path to the image\n",
        "image_path = '/content/image_path.png'  # Update with the correct path to your PNG file\n",
        "\n",
        "# Check if the image file exists\n",
        "try:\n",
        "    image = PIL.Image.open(image_path).convert('RGB')  # Ensure the image has three color channels\n",
        "    print(f\"Image '{image_path}' loaded successfully.\")\n",
        "except FileNotFoundError:\n",
        "    print(f\"Error: '{image_path}' not found.\")\n",
        "    exit()\n",
        "\n",
        "# Preprocess the image\n",
        "img_height, img_width = 32, 32\n",
        "image = image.resize((img_height, img_width))\n",
        "image = np.array(image)\n",
        "if image.shape != (img_height, img_width, 3):\n",
        "    print(f\"Error: The image shape is {image.shape}, expected {(img_height, img_width, 3)}.\")\n",
        "    exit()\n",
        "image = np.expand_dims(image, axis=0)  # Add batch dimension\n",
        "image = image / 255.0  # Normalize the image\n",
        "\n",
        "# Define the model architecture with ResNet50 as base\n",
        "resnet_model = Sequential()\n",
        "pretrained_model = tf.keras.applications.ResNet50(\n",
        "    include_top=False,\n",
        "    input_shape=(img_height, img_width, 3),\n",
        "    pooling='avg',\n",
        "    weights='imagenet'\n",
        ")\n",
        "for layer in pretrained_model.layers:\n",
        "    layer.trainable = False\n",
        "\n",
        "resnet_model.add(pretrained_model)\n",
        "resnet_model.add(Flatten())\n",
        "resnet_model.add(Dense(512, activation='relu'))\n",
        "resnet_model.add(Dense(256, activation='relu'))\n",
        "resnet_model.add(Dropout(0.5))\n",
        "resnet_model.add(Dense(512, activation='relu'))\n",
        "resnet_model.add(Dense(128, activation='relu'))\n",
        "resnet_model.add(Dropout(0.5))\n",
        "resnet_model.add(Dense(10, activation='softmax'))  # Adjust classes as needed\n",
        "\n",
        "# Define custom metrics\n",
        "def recall_m(y_true, y_pred):\n",
        "    true_positives = K.sum(K.round(K.clip(y_true * y_pred, 0, 1)))\n",
        "    possible_positives = K.sum(K.round(K.clip(y_true, 0, 1)))\n",
        "    recall = true_positives / (possible_positives + K.epsilon())\n",
        "    return recall\n",
        "\n",
        "def precision_m(y_true, y_pred):\n",
        "    true_positives = K.sum(K.round(K.clip(y_true * y_pred, 0, 1)))\n",
        "    predicted_positives = K.sum(K.round(K.clip(y_pred, 0, 1)))\n",
        "    precision = true_positives / (predicted_positives + K.epsilon())\n",
        "    return precision\n",
        "\n",
        "def f1_m(y_true, y_pred):\n",
        "    precision = precision_m(y_true, y_pred)\n",
        "    recall = recall_m(y_true, y_pred)\n",
        "    return 2 * ((precision * recall) / (precision + recall + K.epsilon()))\n",
        "\n",
        "# Compile the model\n",
        "resnet_model.compile(optimizer=Adam(learning_rate=0.01), loss='sparse_categorical_crossentropy',\n",
        "                     metrics=['accuracy', f1_m, precision_m, recall_m])\n",
        "\n",
        "# Dummy class names for output (customize these based on actual classes if needed)\n",
        "class_names = [f\"Class {i}\" for i in range(10)]\n",
        "\n",
        "# Predict on the single image\n",
        "try:\n",
        "    pred = resnet_model.predict(image)\n",
        "    output_class = class_names[np.argmax(pred)]\n",
        "    print(\"The predicted class is:\", output_class)\n",
        "except Exception as e:\n",
        "    print(f\"Error during prediction: {e}\")\n"
      ],
      "metadata": {
        "colab": {
          "base_uri": "https://localhost:8080/"
        },
        "id": "zOegJKUbWcEt",
        "outputId": "a7469392-20bd-470d-cd36-c13eb226338e"
      },
      "execution_count": 3,
      "outputs": [
        {
          "output_type": "stream",
          "name": "stdout",
          "text": [
            "Image '/content/image_path.png' loaded successfully.\n",
            "\u001b[1m1/1\u001b[0m \u001b[32m━━━━━━━━━━━━━━━━━━━━\u001b[0m\u001b[37m\u001b[0m \u001b[1m4s\u001b[0m 4s/step\n",
            "The predicted class is: Class 9\n"
          ]
        }
      ]
    },
    {
      "cell_type": "markdown",
      "source": [
        "class_names = [\"Pizza\", \"Burger\", \"Pasta\", \"Sushi\", \"Salad\", \"Sandwich\", \"Soup\", \"Cake\", \"Ice Cream\", \"Fruit\"]\n",
        "class 9 = fruit"
      ],
      "metadata": {
        "id": "jcflvhgdXyYS"
      }
    }
  ]
}